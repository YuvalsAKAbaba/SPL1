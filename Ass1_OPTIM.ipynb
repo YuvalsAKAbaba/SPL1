{
  "nbformat": 4,
  "nbformat_minor": 0,
  "metadata": {
    "colab": {
      "provenance": [],
      "authorship_tag": "ABX9TyPdun+XVs2Ce1bs73emj4hs",
      "include_colab_link": true
    },
    "kernelspec": {
      "name": "python3",
      "display_name": "Python 3"
    },
    "language_info": {
      "name": "python"
    }
  },
  "cells": [
    {
      "cell_type": "markdown",
      "metadata": {
        "id": "view-in-github",
        "colab_type": "text"
      },
      "source": [
        "<a href=\"https://colab.research.google.com/github/YuvalsAKAbaba/SPL1/blob/main/Ass1_OPTIM.ipynb\" target=\"_parent\"><img src=\"https://colab.research.google.com/assets/colab-badge.svg\" alt=\"Open In Colab\"/></a>"
      ]
    },
    {
      "cell_type": "code",
      "execution_count": null,
      "metadata": {
        "colab": {
          "base_uri": "https://localhost:8080/"
        },
        "id": "wdRxykiyK5ke",
        "outputId": "365e6b19-73bc-469d-d9ee-bdec0c36fd2a"
      },
      "outputs": [
        {
          "output_type": "stream",
          "name": "stdout",
          "text": [
            "[[1.51048487]\n",
            " [0.55963531]\n",
            " [0.81889764]]\n"
          ]
        }
      ],
      "source": [
        "import numpy as np\n",
        "import scipy as scp\n",
        "\n",
        "def LeastSquares(A,b):\n",
        "  AT = A.transpose()\n",
        "  SPD = AT@A\n",
        "  newb = AT@b\n",
        "  det = np.linalg.det(SPD)\n",
        "  if(det != 0):\n",
        "      Ainv = np.linalg.inv(SPD)\n",
        "      x = Ainv@newb\n",
        "      return x\n",
        "\n",
        "  return -1\n",
        "\n",
        "def WeightedLeastSquares(A,W,b):\n",
        "  AT = A.transpose()\n",
        "  SPD = AT@W@A\n",
        "  newb = AT@W@b\n",
        "  det = np.linalg.det(SPD)\n",
        "  if(det != 0):\n",
        "      Ainv = np.linalg.inv(SPD)\n",
        "      x = Ainv@newb\n",
        "      return x\n",
        "\n",
        "  return -1\n",
        "\n",
        "\n",
        "def residual(A,x,b):\n",
        "    res = A@x\n",
        "    return res - b\n",
        "def loss_value(residual):\n",
        "    return residual.transpose()@residual\n",
        "\n",
        "A = np.asarray([[2,1,2],[1,-2,1],[1,2,3],[1,1,1],[0.5,0,0],[0,0.5,0],[0,0,0.5]])\n",
        "b = np.asarray([[6],[1],[5],[2],[0],[0],[0]])\n",
        "W = np.asarray([[1,0,0,0],[0,1000,0,0],[0,0,1,0],[0,0,0,1]])\n",
        "x = LeastSquares(A,b)\n",
        "residual = residual(A,x,b)\n",
        "print(x)\n",
        "\n",
        "\n",
        "\n",
        "\n",
        "\n"
      ]
    },
    {
      "cell_type": "code",
      "source": [
        "import pandas as pd #Data manipulation\n",
        "import numpy as np #Data manipulation\n",
        "import matplotlib.pyplot as plt # Visualization\n",
        "from sklearn.model_selection import train_test_split\n",
        "#from google.colab import files\n",
        "#uploaded = files.upload()\n",
        "from google.colab import drive\n",
        "#drive.mount('/content/drive')\n",
        "\n",
        "path = r'/content/drive/MyDrive/סמסטר ד/אופטימיזציה/עבודות/עבודה 1/insurData.csv'\n",
        "df = pd.read_csv(path)\n",
        "\n",
        "\n",
        "# Add a column of ones to the DataFrame\n",
        "df.insert(0, 'Ones', 1)\n",
        "# Scale the charges column (assuming the charges column is named 'charges')\n",
        "df['charges'] = df['charges'] / 1000\n",
        "\n",
        "# Binary encoding for 'sex' and 'smoker'\n",
        "df['sex'] = df['sex'].map({'male': 0, 'female': 1})\n",
        "df['smoker'] = df['smoker'].map({'no': 0, 'yes': 1})\n",
        "# One-hot encoding for 'region'\n",
        "df = pd.get_dummies(df, columns=['region'], prefix='region')\n",
        "# Ensure the columns contain 1s and 0s\n",
        "for col in df.columns:\n",
        "    if df[col].dtype == 'bool':\n",
        "        df[col] = df[col].astype(int)\n",
        "\n",
        "# Extract the charges column and remove it from the DataFrame\n",
        "y = df['charges'].values\n",
        "df = df.drop(columns=['charges'])\n",
        "\n",
        "# Convert the DataFrame to a NumPy matrix\n",
        "X = df.to_numpy()\n",
        "\n",
        "# Function to calculate Mean Squared Error\n",
        "def mean_squared_error(X, y, alpha):\n",
        "    m = len(y)\n",
        "    return (1/m) * np.linalg.norm(X @ alpha - y)**2\n",
        "\n",
        "# Perform the experiment 5 times\n",
        "num_experiments = 5\n",
        "train_mse_list = []\n",
        "test_mse_list = []\n",
        "\n",
        "for _ in range(num_experiments):\n",
        "    # Split the data into training and testing sets\n",
        "    X_train, X_test, y_train, y_test = train_test_split(X, y, test_size=0.2, random_state=None)\n",
        "\n",
        "    # Solve the least squares problem using the training data\n",
        "    alpha = np.linalg.lstsq(X_train, y_train, rcond=None)[0]\n",
        "\n",
        "    # Calculate the MSE for both the training and testing sets\n",
        "    train_mse = mean_squared_error(X_train, y_train, alpha)\n",
        "    test_mse = mean_squared_error(X_test, y_test, alpha)\n",
        "\n",
        "    train_mse_list.append(train_mse)\n",
        "    test_mse_list.append(test_mse)\n",
        "\n",
        "    print(f\"Experiment {_+1}:\")\n",
        "    print(f\"  Train MSE: {train_mse:.6f}\")\n",
        "    print(f\"  Test MSE: {test_mse:.6f}\")\n",
        "\n",
        "# Calculate the average MSE over the 5 experiments\n",
        "avg_train_mse = np.mean(train_mse_list)\n",
        "avg_test_mse = np.mean(test_mse_list)\n",
        "\n",
        "print(\"\\nAverage MSE over 5 experiments:\")\n",
        "print(f\"  Train MSE: {avg_train_mse:.6f}\")\n",
        "print(f\"  Test MSE: {avg_test_mse:.6f}\")\n",
        "variance_charges = np.var(y)\n",
        "print(f\"\\nVariance of charges: {variance_charges:.6f}\")\n",
        "#print('\\nNumber of rows and columns in the data set: ',df.shape)\n",
        "#Lets look into top few rows and columns in the dataset\n",
        "#print(df.head())\n",
        "#print(y[:5])\n"
      ],
      "metadata": {
        "colab": {
          "base_uri": "https://localhost:8080/"
        },
        "id": "YShyqAl1DLoq",
        "outputId": "b7be406f-feca-44a7-f3e9-f56879c4fad4"
      },
      "execution_count": null,
      "outputs": [
        {
          "output_type": "stream",
          "name": "stdout",
          "text": [
            "Experiment 1:\n",
            "  Train MSE: 37.313827\n",
            "  Test MSE: 33.720316\n",
            "Experiment 2:\n",
            "  Train MSE: 36.793881\n",
            "  Test MSE: 35.569217\n",
            "Experiment 3:\n",
            "  Train MSE: 36.129012\n",
            "  Test MSE: 38.399972\n",
            "Experiment 4:\n",
            "  Train MSE: 37.225730\n",
            "  Test MSE: 34.126792\n",
            "Experiment 5:\n",
            "  Train MSE: 34.719111\n",
            "  Test MSE: 44.101771\n",
            "\n",
            "Average MSE over 5 experiments:\n",
            "  Train MSE: 36.436312\n",
            "  Test MSE: 37.183614\n",
            "\n",
            "Variance of charges: 146.542766\n"
          ]
        }
      ]
    }
  ]
}